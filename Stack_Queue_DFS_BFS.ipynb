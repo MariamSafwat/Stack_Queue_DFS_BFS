{
 "cells": [
  {
   "cell_type": "markdown",
   "metadata": {},
   "source": [
    "# Stack"
   ]
  },
  {
   "cell_type": "code",
   "execution_count": 189,
   "metadata": {},
   "outputs": [],
   "source": [
    "class stack():\n",
    "    def __init__(self, n):\n",
    "        self.arr = []\n",
    "        self.pnt = -1 # pointer\n",
    "        if n < 1 and n != floor(n):\n",
    "            print('size must be positive integer')\n",
    "        else:\n",
    "            self.n = n # max size\n",
    "        \n",
    "    def isEmpty(self):\n",
    "        if self.pnt == -1:\n",
    "            return True\n",
    "        return False\n",
    "    \n",
    "    def isFull(self):\n",
    "        if self.pnt == self.n-1:\n",
    "            return True\n",
    "        return False\n",
    "    \n",
    "    def push(self,x):\n",
    "        if not self.isFull():\n",
    "            self.arr.append(x)\n",
    "            self.pnt += 1\n",
    "            print(self.arr)\n",
    "            print(self.pnt)\n",
    "        else:\n",
    "            print('Stack is full')\n",
    "        \n",
    "    def pull(self):\n",
    "        if not self.isEmpty():\n",
    "            el = self.arr[self.pnt] # or self.arr[-1]\n",
    "            del self.arr[self.pnt]\n",
    "            self.pnt -= 1\n",
    "            print(self.arr)\n",
    "            print(self.pnt)\n",
    "            return el\n",
    "        else:\n",
    "            print('Stack is empty')\n",
    "            \n",
    "            \n",
    "    def top(self):\n",
    "        return self.arr[self.pnt]\n",
    "        "
   ]
  },
  {
   "cell_type": "code",
   "execution_count": 115,
   "metadata": {},
   "outputs": [],
   "source": [
    "s = stack(5)"
   ]
  },
  {
   "cell_type": "code",
   "execution_count": 116,
   "metadata": {},
   "outputs": [
    {
     "data": {
      "text/plain": [
       "True"
      ]
     },
     "execution_count": 116,
     "metadata": {},
     "output_type": "execute_result"
    }
   ],
   "source": [
    "s.isEmpty()"
   ]
  },
  {
   "cell_type": "code",
   "execution_count": 117,
   "metadata": {},
   "outputs": [
    {
     "name": "stdout",
     "output_type": "stream",
     "text": [
      "['a']\n",
      "0\n"
     ]
    }
   ],
   "source": [
    "s.push('a')"
   ]
  },
  {
   "cell_type": "code",
   "execution_count": 118,
   "metadata": {},
   "outputs": [
    {
     "name": "stdout",
     "output_type": "stream",
     "text": [
      "['a', 'b']\n",
      "1\n"
     ]
    }
   ],
   "source": [
    "s.push('b')"
   ]
  },
  {
   "cell_type": "code",
   "execution_count": 119,
   "metadata": {},
   "outputs": [
    {
     "data": {
      "text/plain": [
       "'b'"
      ]
     },
     "execution_count": 119,
     "metadata": {},
     "output_type": "execute_result"
    }
   ],
   "source": [
    "s.top()"
   ]
  },
  {
   "cell_type": "code",
   "execution_count": 120,
   "metadata": {},
   "outputs": [
    {
     "data": {
      "text/plain": [
       "False"
      ]
     },
     "execution_count": 120,
     "metadata": {},
     "output_type": "execute_result"
    }
   ],
   "source": [
    "s.isEmpty()"
   ]
  },
  {
   "cell_type": "code",
   "execution_count": 121,
   "metadata": {},
   "outputs": [
    {
     "name": "stdout",
     "output_type": "stream",
     "text": [
      "['a']\n",
      "0\n"
     ]
    }
   ],
   "source": [
    "s.pull()"
   ]
  },
  {
   "cell_type": "code",
   "execution_count": 122,
   "metadata": {},
   "outputs": [
    {
     "name": "stdout",
     "output_type": "stream",
     "text": [
      "['a', 'c']\n",
      "1\n"
     ]
    }
   ],
   "source": [
    "s.push('c')"
   ]
  },
  {
   "cell_type": "code",
   "execution_count": 123,
   "metadata": {},
   "outputs": [
    {
     "name": "stdout",
     "output_type": "stream",
     "text": [
      "['a', 'c', 'd']\n",
      "2\n"
     ]
    }
   ],
   "source": [
    "s.push('d')"
   ]
  },
  {
   "cell_type": "code",
   "execution_count": 124,
   "metadata": {},
   "outputs": [
    {
     "data": {
      "text/plain": [
       "False"
      ]
     },
     "execution_count": 124,
     "metadata": {},
     "output_type": "execute_result"
    }
   ],
   "source": [
    "s.isFull()"
   ]
  },
  {
   "cell_type": "code",
   "execution_count": 125,
   "metadata": {},
   "outputs": [
    {
     "name": "stdout",
     "output_type": "stream",
     "text": [
      "['a', 'c', 'd', 'e']\n",
      "3\n"
     ]
    }
   ],
   "source": [
    "s.push('e')"
   ]
  },
  {
   "cell_type": "code",
   "execution_count": 126,
   "metadata": {},
   "outputs": [
    {
     "name": "stdout",
     "output_type": "stream",
     "text": [
      "['a', 'c', 'd', 'e', 'f']\n",
      "4\n"
     ]
    }
   ],
   "source": [
    "s.push('f')"
   ]
  },
  {
   "cell_type": "code",
   "execution_count": 127,
   "metadata": {},
   "outputs": [
    {
     "data": {
      "text/plain": [
       "True"
      ]
     },
     "execution_count": 127,
     "metadata": {},
     "output_type": "execute_result"
    }
   ],
   "source": [
    "s.isFull()"
   ]
  },
  {
   "cell_type": "code",
   "execution_count": 78,
   "metadata": {},
   "outputs": [
    {
     "name": "stdout",
     "output_type": "stream",
     "text": [
      "['a', 'c']\n",
      "1\n"
     ]
    }
   ],
   "source": [
    "s.pull()"
   ]
  },
  {
   "cell_type": "code",
   "execution_count": 79,
   "metadata": {},
   "outputs": [
    {
     "data": {
      "text/plain": [
       "False"
      ]
     },
     "execution_count": 79,
     "metadata": {},
     "output_type": "execute_result"
    }
   ],
   "source": [
    "s.isEmpty()"
   ]
  },
  {
   "cell_type": "code",
   "execution_count": 80,
   "metadata": {},
   "outputs": [
    {
     "name": "stdout",
     "output_type": "stream",
     "text": [
      "['a']\n",
      "0\n"
     ]
    }
   ],
   "source": [
    "s.pull()"
   ]
  },
  {
   "cell_type": "code",
   "execution_count": 81,
   "metadata": {},
   "outputs": [
    {
     "name": "stdout",
     "output_type": "stream",
     "text": [
      "[]\n",
      "-1\n"
     ]
    }
   ],
   "source": [
    "s.pull()"
   ]
  },
  {
   "cell_type": "code",
   "execution_count": 82,
   "metadata": {},
   "outputs": [
    {
     "name": "stdout",
     "output_type": "stream",
     "text": [
      "stack is empty\n"
     ]
    }
   ],
   "source": [
    "s.pull()"
   ]
  },
  {
   "cell_type": "markdown",
   "metadata": {},
   "source": [
    "# Queue"
   ]
  },
  {
   "cell_type": "code",
   "execution_count": 146,
   "metadata": {},
   "outputs": [],
   "source": [
    "class queue():\n",
    "    def __init__(self, n):\n",
    "        self.arr = []\n",
    "        self.pnt = -1 # pointer\n",
    "        if n < 1 and n != floor(n):\n",
    "            print('size must be positive integer')\n",
    "        else:\n",
    "            self.n = n # max size\n",
    "        \n",
    "    def isEmpty(self):\n",
    "        if self.pnt == -1:\n",
    "            return True\n",
    "        return False\n",
    "    \n",
    "    def isFull(self):\n",
    "        if self.pnt == self.n-1:\n",
    "            return True\n",
    "        return False\n",
    "    \n",
    "    def push(self,x):\n",
    "        if not self.isFull():\n",
    "            self.arr.append(x)\n",
    "            self.pnt += 1\n",
    "            print(self.arr)\n",
    "            print(self.pnt)\n",
    "        else:\n",
    "            print('Queue is full')\n",
    "        \n",
    "    def pull(self):\n",
    "        if not self.isEmpty():\n",
    "            el = self.arr[0]\n",
    "            del self.arr[0]\n",
    "            self.pnt -= 1\n",
    "            print(self.arr)\n",
    "            print(self.pnt)\n",
    "            return el\n",
    "            \n",
    "        else:\n",
    "            print('Queue is empty')\n",
    "            \n",
    "    def top(self):\n",
    "        return self.arr[0]\n",
    "        "
   ]
  },
  {
   "cell_type": "code",
   "execution_count": 147,
   "metadata": {},
   "outputs": [],
   "source": [
    "q = queue(5)"
   ]
  },
  {
   "cell_type": "code",
   "execution_count": 148,
   "metadata": {},
   "outputs": [
    {
     "data": {
      "text/plain": [
       "True"
      ]
     },
     "execution_count": 148,
     "metadata": {},
     "output_type": "execute_result"
    }
   ],
   "source": [
    "q.isEmpty()"
   ]
  },
  {
   "cell_type": "code",
   "execution_count": 149,
   "metadata": {},
   "outputs": [
    {
     "name": "stdout",
     "output_type": "stream",
     "text": [
      "['a']\n",
      "0\n",
      "['a', 'b']\n",
      "1\n",
      "['a', 'b', 'c']\n",
      "2\n",
      "['a', 'b', 'c', 'd']\n",
      "3\n"
     ]
    }
   ],
   "source": [
    "q.push('a')\n",
    "q.push('b')\n",
    "q.push('c')\n",
    "q.push('d')\n"
   ]
  },
  {
   "cell_type": "code",
   "execution_count": 150,
   "metadata": {},
   "outputs": [
    {
     "data": {
      "text/plain": [
       "False"
      ]
     },
     "execution_count": 150,
     "metadata": {},
     "output_type": "execute_result"
    }
   ],
   "source": [
    "q.isFull()"
   ]
  },
  {
   "cell_type": "code",
   "execution_count": 151,
   "metadata": {},
   "outputs": [
    {
     "name": "stdout",
     "output_type": "stream",
     "text": [
      "['a', 'b', 'c', 'd', 'e']\n",
      "4\n"
     ]
    }
   ],
   "source": [
    "q.push('e')"
   ]
  },
  {
   "cell_type": "code",
   "execution_count": 152,
   "metadata": {},
   "outputs": [
    {
     "data": {
      "text/plain": [
       "True"
      ]
     },
     "execution_count": 152,
     "metadata": {},
     "output_type": "execute_result"
    }
   ],
   "source": [
    "q.isFull()"
   ]
  },
  {
   "cell_type": "code",
   "execution_count": 153,
   "metadata": {},
   "outputs": [
    {
     "name": "stdout",
     "output_type": "stream",
     "text": [
      "['b', 'c', 'd', 'e']\n",
      "3\n"
     ]
    },
    {
     "data": {
      "text/plain": [
       "'a'"
      ]
     },
     "execution_count": 153,
     "metadata": {},
     "output_type": "execute_result"
    }
   ],
   "source": [
    "q.pull()"
   ]
  },
  {
   "cell_type": "code",
   "execution_count": 154,
   "metadata": {},
   "outputs": [
    {
     "name": "stdout",
     "output_type": "stream",
     "text": [
      "['b', 'c', 'd', 'e', 'f']\n",
      "4\n"
     ]
    }
   ],
   "source": [
    "q.push('f')"
   ]
  },
  {
   "cell_type": "code",
   "execution_count": 155,
   "metadata": {},
   "outputs": [
    {
     "name": "stdout",
     "output_type": "stream",
     "text": [
      "Queue is full\n"
     ]
    }
   ],
   "source": [
    "q.push('r')"
   ]
  },
  {
   "cell_type": "markdown",
   "metadata": {},
   "source": [
    "# Depth first search (DFS)"
   ]
  },
  {
   "cell_type": "code",
   "execution_count": 201,
   "metadata": {},
   "outputs": [],
   "source": [
    "def dfs(G,el):\n",
    "    visited = [] \n",
    "    s = stack(10)\n",
    "    s.push(el)\n",
    "    explored = []\n",
    "    #s.isEmpty()\n",
    "    while not s.isEmpty():\n",
    "        node = s.pull()\n",
    "        #explored.append(node) \n",
    "        #print('explored:',explored)\n",
    "        #print(node, G[node])\n",
    "        if not node in visited:\n",
    "            explored.append(node)\n",
    "            print('explored:',explored)\n",
    "            visited.append(node)\n",
    "            print('visited:', visited)\n",
    "\n",
    "            for val in G[node]:\n",
    "                s.push(val)\n"
   ]
  },
  {
   "cell_type": "code",
   "execution_count": 204,
   "metadata": {},
   "outputs": [],
   "source": [
    "G = {\"a\":[\"b\", \"c\", \"e\"],\n",
    "     \"b\":[\"a\",\"d\"],\n",
    "     \"c\":[\"a\",\"d\",\"e\",\"f\"],\n",
    "     \"d\":[\"b\",\"c\",\"e\"],\n",
    "     \"e\":[\"a\",\"c\",\"d\"],\n",
    "     \"f\":[\"c\"]\n",
    "}"
   ]
  },
  {
   "cell_type": "code",
   "execution_count": 205,
   "metadata": {},
   "outputs": [
    {
     "name": "stdout",
     "output_type": "stream",
     "text": [
      "['a']\n",
      "0\n",
      "[]\n",
      "-1\n",
      "explored: ['a']\n",
      "visited: ['a']\n",
      "['b']\n",
      "0\n",
      "['b', 'c']\n",
      "1\n",
      "['b', 'c', 'e']\n",
      "2\n",
      "['b', 'c']\n",
      "1\n",
      "explored: ['a', 'e']\n",
      "visited: ['a', 'e']\n",
      "['b', 'c', 'a']\n",
      "2\n",
      "['b', 'c', 'a', 'c']\n",
      "3\n",
      "['b', 'c', 'a', 'c', 'd']\n",
      "4\n",
      "['b', 'c', 'a', 'c']\n",
      "3\n",
      "explored: ['a', 'e', 'd']\n",
      "visited: ['a', 'e', 'd']\n",
      "['b', 'c', 'a', 'c', 'b']\n",
      "4\n",
      "['b', 'c', 'a', 'c', 'b', 'c']\n",
      "5\n",
      "['b', 'c', 'a', 'c', 'b', 'c', 'e']\n",
      "6\n",
      "['b', 'c', 'a', 'c', 'b', 'c']\n",
      "5\n",
      "['b', 'c', 'a', 'c', 'b']\n",
      "4\n",
      "explored: ['a', 'e', 'd', 'c']\n",
      "visited: ['a', 'e', 'd', 'c']\n",
      "['b', 'c', 'a', 'c', 'b', 'a']\n",
      "5\n",
      "['b', 'c', 'a', 'c', 'b', 'a', 'd']\n",
      "6\n",
      "['b', 'c', 'a', 'c', 'b', 'a', 'd', 'e']\n",
      "7\n",
      "['b', 'c', 'a', 'c', 'b', 'a', 'd', 'e', 'f']\n",
      "8\n",
      "['b', 'c', 'a', 'c', 'b', 'a', 'd', 'e']\n",
      "7\n",
      "explored: ['a', 'e', 'd', 'c', 'f']\n",
      "visited: ['a', 'e', 'd', 'c', 'f']\n",
      "['b', 'c', 'a', 'c', 'b', 'a', 'd', 'e', 'c']\n",
      "8\n",
      "['b', 'c', 'a', 'c', 'b', 'a', 'd', 'e']\n",
      "7\n",
      "['b', 'c', 'a', 'c', 'b', 'a', 'd']\n",
      "6\n",
      "['b', 'c', 'a', 'c', 'b', 'a']\n",
      "5\n",
      "['b', 'c', 'a', 'c', 'b']\n",
      "4\n",
      "['b', 'c', 'a', 'c']\n",
      "3\n",
      "explored: ['a', 'e', 'd', 'c', 'f', 'b']\n",
      "visited: ['a', 'e', 'd', 'c', 'f', 'b']\n",
      "['b', 'c', 'a', 'c', 'a']\n",
      "4\n",
      "['b', 'c', 'a', 'c', 'a', 'd']\n",
      "5\n",
      "['b', 'c', 'a', 'c', 'a']\n",
      "4\n",
      "['b', 'c', 'a', 'c']\n",
      "3\n",
      "['b', 'c', 'a']\n",
      "2\n",
      "['b', 'c']\n",
      "1\n",
      "['b']\n",
      "0\n",
      "[]\n",
      "-1\n"
     ]
    }
   ],
   "source": [
    "dfs(G,\"a\")"
   ]
  },
  {
   "cell_type": "markdown",
   "metadata": {},
   "source": [
    "# Breadth First Search (BFS)"
   ]
  },
  {
   "cell_type": "code",
   "execution_count": 206,
   "metadata": {},
   "outputs": [],
   "source": [
    "def bfs(G,el):\n",
    "    visited = [] \n",
    "    q = queue(10)\n",
    "    q.push(el)\n",
    "    explored = []\n",
    "    #s.isEmpty()\n",
    "    while not q.isEmpty():\n",
    "        node = q.pull()\n",
    "        #explored.append(node) \n",
    "        #print('explored:',explored)\n",
    "        #print(node, G[node])\n",
    "        if not node in visited:\n",
    "            explored.append(node)\n",
    "            print('explored:',explored)\n",
    "            visited.append(node)\n",
    "            print('visited:', visited)\n",
    "\n",
    "            for val in G[node]:\n",
    "                q.push(val)\n"
   ]
  },
  {
   "cell_type": "code",
   "execution_count": 207,
   "metadata": {},
   "outputs": [
    {
     "name": "stdout",
     "output_type": "stream",
     "text": [
      "['a']\n",
      "0\n",
      "[]\n",
      "-1\n",
      "explored: ['a']\n",
      "visited: ['a']\n",
      "['b']\n",
      "0\n",
      "['b', 'c']\n",
      "1\n",
      "['b', 'c', 'e']\n",
      "2\n",
      "['c', 'e']\n",
      "1\n",
      "explored: ['a', 'b']\n",
      "visited: ['a', 'b']\n",
      "['c', 'e', 'a']\n",
      "2\n",
      "['c', 'e', 'a', 'd']\n",
      "3\n",
      "['e', 'a', 'd']\n",
      "2\n",
      "explored: ['a', 'b', 'c']\n",
      "visited: ['a', 'b', 'c']\n",
      "['e', 'a', 'd', 'a']\n",
      "3\n",
      "['e', 'a', 'd', 'a', 'd']\n",
      "4\n",
      "['e', 'a', 'd', 'a', 'd', 'e']\n",
      "5\n",
      "['e', 'a', 'd', 'a', 'd', 'e', 'f']\n",
      "6\n",
      "['a', 'd', 'a', 'd', 'e', 'f']\n",
      "5\n",
      "explored: ['a', 'b', 'c', 'e']\n",
      "visited: ['a', 'b', 'c', 'e']\n",
      "['a', 'd', 'a', 'd', 'e', 'f', 'a']\n",
      "6\n",
      "['a', 'd', 'a', 'd', 'e', 'f', 'a', 'c']\n",
      "7\n",
      "['a', 'd', 'a', 'd', 'e', 'f', 'a', 'c', 'd']\n",
      "8\n",
      "['d', 'a', 'd', 'e', 'f', 'a', 'c', 'd']\n",
      "7\n",
      "['a', 'd', 'e', 'f', 'a', 'c', 'd']\n",
      "6\n",
      "explored: ['a', 'b', 'c', 'e', 'd']\n",
      "visited: ['a', 'b', 'c', 'e', 'd']\n",
      "['a', 'd', 'e', 'f', 'a', 'c', 'd', 'b']\n",
      "7\n",
      "['a', 'd', 'e', 'f', 'a', 'c', 'd', 'b', 'c']\n",
      "8\n",
      "['a', 'd', 'e', 'f', 'a', 'c', 'd', 'b', 'c', 'e']\n",
      "9\n",
      "['d', 'e', 'f', 'a', 'c', 'd', 'b', 'c', 'e']\n",
      "8\n",
      "['e', 'f', 'a', 'c', 'd', 'b', 'c', 'e']\n",
      "7\n",
      "['f', 'a', 'c', 'd', 'b', 'c', 'e']\n",
      "6\n",
      "['a', 'c', 'd', 'b', 'c', 'e']\n",
      "5\n",
      "explored: ['a', 'b', 'c', 'e', 'd', 'f']\n",
      "visited: ['a', 'b', 'c', 'e', 'd', 'f']\n",
      "['a', 'c', 'd', 'b', 'c', 'e', 'c']\n",
      "6\n",
      "['c', 'd', 'b', 'c', 'e', 'c']\n",
      "5\n",
      "['d', 'b', 'c', 'e', 'c']\n",
      "4\n",
      "['b', 'c', 'e', 'c']\n",
      "3\n",
      "['c', 'e', 'c']\n",
      "2\n",
      "['e', 'c']\n",
      "1\n",
      "['c']\n",
      "0\n",
      "[]\n",
      "-1\n"
     ]
    }
   ],
   "source": [
    "bfs(G,\"a\")"
   ]
  }
 ],
 "metadata": {
  "kernelspec": {
   "display_name": "Python 3",
   "language": "python",
   "name": "python3"
  },
  "language_info": {
   "codemirror_mode": {
    "name": "ipython",
    "version": 3
   },
   "file_extension": ".py",
   "mimetype": "text/x-python",
   "name": "python",
   "nbconvert_exporter": "python",
   "pygments_lexer": "ipython3",
   "version": "3.6.4"
  }
 },
 "nbformat": 4,
 "nbformat_minor": 4
}
